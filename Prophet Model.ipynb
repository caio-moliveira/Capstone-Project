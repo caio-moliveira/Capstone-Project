{
 "cells": [
  {
   "cell_type": "code",
   "execution_count": 1,
   "metadata": {},
   "outputs": [],
   "source": [
    "import warnings;\n",
    "warnings.simplefilter('ignore')"
   ]
  },
  {
   "cell_type": "code",
   "execution_count": 2,
   "metadata": {},
   "outputs": [],
   "source": [
    "#!pip install prophet"
   ]
  },
  {
   "cell_type": "code",
   "execution_count": 3,
   "metadata": {},
   "outputs": [],
   "source": [
    "import pandas as pd\n",
    "from matplotlib import pyplot as plt\n",
    "import pickle\n",
    "import numpy as np\n",
    "from neuralprophet import NeuralProphet\n"
   ]
  },
  {
   "cell_type": "code",
   "execution_count": 4,
   "metadata": {},
   "outputs": [],
   "source": [
    "data = pd.read_csv('crime-per-county.csv')"
   ]
  },
  {
   "cell_type": "code",
   "execution_count": 5,
   "metadata": {},
   "outputs": [
    {
     "data": {
      "text/html": [
       "<div>\n",
       "<style scoped>\n",
       "    .dataframe tbody tr th:only-of-type {\n",
       "        vertical-align: middle;\n",
       "    }\n",
       "\n",
       "    .dataframe tbody tr th {\n",
       "        vertical-align: top;\n",
       "    }\n",
       "\n",
       "    .dataframe thead th {\n",
       "        text-align: right;\n",
       "    }\n",
       "</style>\n",
       "<table border=\"1\" class=\"dataframe\">\n",
       "  <thead>\n",
       "    <tr style=\"text-align: right;\">\n",
       "      <th></th>\n",
       "      <th>STATISTIC Label</th>\n",
       "      <th>Quarter</th>\n",
       "      <th>Garda Division</th>\n",
       "      <th>Type of Offence</th>\n",
       "      <th>UNIT</th>\n",
       "      <th>VALUE</th>\n",
       "    </tr>\n",
       "  </thead>\n",
       "  <tbody>\n",
       "    <tr>\n",
       "      <th>0</th>\n",
       "      <td>Recorded crime incidents</td>\n",
       "      <td>2003Q1</td>\n",
       "      <td>Cavan/Monaghan Garda Division</td>\n",
       "      <td>Homicide offences</td>\n",
       "      <td>Number</td>\n",
       "      <td>1.0</td>\n",
       "    </tr>\n",
       "    <tr>\n",
       "      <th>1</th>\n",
       "      <td>Recorded crime incidents</td>\n",
       "      <td>2003Q1</td>\n",
       "      <td>Cavan/Monaghan Garda Division</td>\n",
       "      <td>Murder</td>\n",
       "      <td>Number</td>\n",
       "      <td>0.0</td>\n",
       "    </tr>\n",
       "    <tr>\n",
       "      <th>2</th>\n",
       "      <td>Recorded crime incidents</td>\n",
       "      <td>2003Q1</td>\n",
       "      <td>Cavan/Monaghan Garda Division</td>\n",
       "      <td>Manslaughter</td>\n",
       "      <td>Number</td>\n",
       "      <td>0.0</td>\n",
       "    </tr>\n",
       "    <tr>\n",
       "      <th>3</th>\n",
       "      <td>Recorded crime incidents</td>\n",
       "      <td>2003Q1</td>\n",
       "      <td>Cavan/Monaghan Garda Division</td>\n",
       "      <td>Infanticide</td>\n",
       "      <td>Number</td>\n",
       "      <td>0.0</td>\n",
       "    </tr>\n",
       "    <tr>\n",
       "      <th>4</th>\n",
       "      <td>Recorded crime incidents</td>\n",
       "      <td>2003Q1</td>\n",
       "      <td>Cavan/Monaghan Garda Division</td>\n",
       "      <td>Dangerous driving leading to death</td>\n",
       "      <td>Number</td>\n",
       "      <td>1.0</td>\n",
       "    </tr>\n",
       "  </tbody>\n",
       "</table>\n",
       "</div>"
      ],
      "text/plain": [
       "            STATISTIC Label Quarter                 Garda Division  \\\n",
       "0  Recorded crime incidents  2003Q1  Cavan/Monaghan Garda Division   \n",
       "1  Recorded crime incidents  2003Q1  Cavan/Monaghan Garda Division   \n",
       "2  Recorded crime incidents  2003Q1  Cavan/Monaghan Garda Division   \n",
       "3  Recorded crime incidents  2003Q1  Cavan/Monaghan Garda Division   \n",
       "4  Recorded crime incidents  2003Q1  Cavan/Monaghan Garda Division   \n",
       "\n",
       "                      Type of Offence    UNIT  VALUE  \n",
       "0                   Homicide offences  Number    1.0  \n",
       "1                              Murder  Number    0.0  \n",
       "2                        Manslaughter  Number    0.0  \n",
       "3                         Infanticide  Number    0.0  \n",
       "4  Dangerous driving leading to death  Number    1.0  "
      ]
     },
     "execution_count": 5,
     "metadata": {},
     "output_type": "execute_result"
    }
   ],
   "source": [
    "data.head()\n"
   ]
  },
  {
   "cell_type": "code",
   "execution_count": 6,
   "metadata": {},
   "outputs": [],
   "source": [
    "data.drop(columns =[\"STATISTIC Label\", \"UNIT\"], inplace=True)"
   ]
  },
  {
   "cell_type": "code",
   "execution_count": 7,
   "metadata": {},
   "outputs": [],
   "source": [
    "data['VALUE'] = data['VALUE'].fillna(0)\n",
    "data['VALUE'] = data['VALUE'].astype('int64')"
   ]
  },
  {
   "cell_type": "code",
   "execution_count": 8,
   "metadata": {},
   "outputs": [],
   "source": [
    "def quarter_to_date(year_quarter):\n",
    "    year, quarter = year_quarter.split('Q')\n",
    "    first_month = {'1': '01', '2' : '04' , '3' : '07' , '4' : '10'}\n",
    "    return f\"{year}-{first_month[quarter]}-1\"\n",
    "\n",
    "data['Date'] = data['Quarter'].apply(quarter_to_date)\n"
   ]
  },
  {
   "cell_type": "code",
   "execution_count": 9,
   "metadata": {},
   "outputs": [],
   "source": [
    "# Correct way using .loc to avoid SettingWithCopyWarning\n",
    "data.loc[:, 'Date'] = pd.to_datetime(data['Date'])\n",
    "\n"
   ]
  },
  {
   "cell_type": "code",
   "execution_count": 10,
   "metadata": {},
   "outputs": [],
   "source": [
    "data['Date'] = pd.to_datetime(data['Date'])"
   ]
  },
  {
   "cell_type": "code",
   "execution_count": 11,
   "metadata": {},
   "outputs": [],
   "source": [
    "#data.set_index('Date', inplace=True)"
   ]
  },
  {
   "cell_type": "code",
   "execution_count": 12,
   "metadata": {},
   "outputs": [],
   "source": [
    "data.drop(columns =['Quarter'], inplace=True)"
   ]
  },
  {
   "cell_type": "code",
   "execution_count": 13,
   "metadata": {},
   "outputs": [],
   "source": [
    "data = data[data['VALUE'] != 0]"
   ]
  },
  {
   "cell_type": "code",
   "execution_count": 14,
   "metadata": {},
   "outputs": [
    {
     "name": "stdout",
     "output_type": "stream",
     "text": [
      "<class 'pandas.core.frame.DataFrame'>\n",
      "Index: 120808 entries, 0 to 166991\n",
      "Data columns (total 4 columns):\n",
      " #   Column           Non-Null Count   Dtype         \n",
      "---  ------           --------------   -----         \n",
      " 0   Garda Division   120808 non-null  object        \n",
      " 1   Type of Offence  120808 non-null  object        \n",
      " 2   VALUE            120808 non-null  int64         \n",
      " 3   Date             120808 non-null  datetime64[ns]\n",
      "dtypes: datetime64[ns](1), int64(1), object(2)\n",
      "memory usage: 4.6+ MB\n"
     ]
    },
    {
     "data": {
      "text/html": [
       "<div>\n",
       "<style scoped>\n",
       "    .dataframe tbody tr th:only-of-type {\n",
       "        vertical-align: middle;\n",
       "    }\n",
       "\n",
       "    .dataframe tbody tr th {\n",
       "        vertical-align: top;\n",
       "    }\n",
       "\n",
       "    .dataframe thead th {\n",
       "        text-align: right;\n",
       "    }\n",
       "</style>\n",
       "<table border=\"1\" class=\"dataframe\">\n",
       "  <thead>\n",
       "    <tr style=\"text-align: right;\">\n",
       "      <th></th>\n",
       "      <th>VALUE</th>\n",
       "      <th>Date</th>\n",
       "    </tr>\n",
       "  </thead>\n",
       "  <tbody>\n",
       "    <tr>\n",
       "      <th>count</th>\n",
       "      <td>120808.000000</td>\n",
       "      <td>120808</td>\n",
       "    </tr>\n",
       "    <tr>\n",
       "      <th>mean</th>\n",
       "      <td>81.256763</td>\n",
       "      <td>2013-06-16 19:43:56.408185088</td>\n",
       "    </tr>\n",
       "    <tr>\n",
       "      <th>min</th>\n",
       "      <td>1.000000</td>\n",
       "      <td>2003-01-01 00:00:00</td>\n",
       "    </tr>\n",
       "    <tr>\n",
       "      <th>25%</th>\n",
       "      <td>2.000000</td>\n",
       "      <td>2008-04-01 00:00:00</td>\n",
       "    </tr>\n",
       "    <tr>\n",
       "      <th>50%</th>\n",
       "      <td>16.000000</td>\n",
       "      <td>2013-07-01 00:00:00</td>\n",
       "    </tr>\n",
       "    <tr>\n",
       "      <th>75%</th>\n",
       "      <td>86.000000</td>\n",
       "      <td>2018-10-01 00:00:00</td>\n",
       "    </tr>\n",
       "    <tr>\n",
       "      <th>max</th>\n",
       "      <td>2541.000000</td>\n",
       "      <td>2023-10-01 00:00:00</td>\n",
       "    </tr>\n",
       "    <tr>\n",
       "      <th>std</th>\n",
       "      <td>170.400775</td>\n",
       "      <td>NaN</td>\n",
       "    </tr>\n",
       "  </tbody>\n",
       "</table>\n",
       "</div>"
      ],
      "text/plain": [
       "               VALUE                           Date\n",
       "count  120808.000000                         120808\n",
       "mean       81.256763  2013-06-16 19:43:56.408185088\n",
       "min         1.000000            2003-01-01 00:00:00\n",
       "25%         2.000000            2008-04-01 00:00:00\n",
       "50%        16.000000            2013-07-01 00:00:00\n",
       "75%        86.000000            2018-10-01 00:00:00\n",
       "max      2541.000000            2023-10-01 00:00:00\n",
       "std       170.400775                            NaN"
      ]
     },
     "execution_count": 14,
     "metadata": {},
     "output_type": "execute_result"
    }
   ],
   "source": [
    "data.info() \n",
    "data.describe()"
   ]
  },
  {
   "cell_type": "code",
   "execution_count": 15,
   "metadata": {},
   "outputs": [],
   "source": [
    "# Filter the data for \"Theft from person\" crimes in \"D.M.R. North Central Garda Division\"\n",
    "theft_from_person_data = data[\n",
    "    (data['Type of Offence'] == 'Robbery from the person') & \n",
    "    (data['Garda Division'] == 'D.M.R. North Central Garda Division')\n",
    "]"
   ]
  },
  {
   "cell_type": "code",
   "execution_count": null,
   "metadata": {},
   "outputs": [],
   "source": []
  },
  {
   "cell_type": "code",
   "execution_count": 16,
   "metadata": {},
   "outputs": [],
   "source": [
    "theft_from_person_data.drop(columns =['Garda Division', 'Type of Offence'], inplace=True)"
   ]
  },
  {
   "cell_type": "code",
   "execution_count": null,
   "metadata": {},
   "outputs": [],
   "source": []
  },
  {
   "cell_type": "code",
   "execution_count": 17,
   "metadata": {},
   "outputs": [
    {
     "data": {
      "text/html": [
       "<div>\n",
       "<style scoped>\n",
       "    .dataframe tbody tr th:only-of-type {\n",
       "        vertical-align: middle;\n",
       "    }\n",
       "\n",
       "    .dataframe tbody tr th {\n",
       "        vertical-align: top;\n",
       "    }\n",
       "\n",
       "    .dataframe thead th {\n",
       "        text-align: right;\n",
       "    }\n",
       "</style>\n",
       "<table border=\"1\" class=\"dataframe\">\n",
       "  <thead>\n",
       "    <tr style=\"text-align: right;\">\n",
       "      <th></th>\n",
       "      <th>VALUE</th>\n",
       "      <th>Date</th>\n",
       "    </tr>\n",
       "  </thead>\n",
       "  <tbody>\n",
       "    <tr>\n",
       "      <th>1663</th>\n",
       "      <td>74</td>\n",
       "      <td>2003-01-01</td>\n",
       "    </tr>\n",
       "    <tr>\n",
       "      <th>3651</th>\n",
       "      <td>55</td>\n",
       "      <td>2003-04-01</td>\n",
       "    </tr>\n",
       "    <tr>\n",
       "      <th>5639</th>\n",
       "      <td>76</td>\n",
       "      <td>2003-07-01</td>\n",
       "    </tr>\n",
       "    <tr>\n",
       "      <th>7627</th>\n",
       "      <td>45</td>\n",
       "      <td>2003-10-01</td>\n",
       "    </tr>\n",
       "    <tr>\n",
       "      <th>9615</th>\n",
       "      <td>61</td>\n",
       "      <td>2004-01-01</td>\n",
       "    </tr>\n",
       "  </tbody>\n",
       "</table>\n",
       "</div>"
      ],
      "text/plain": [
       "      VALUE       Date\n",
       "1663     74 2003-01-01\n",
       "3651     55 2003-04-01\n",
       "5639     76 2003-07-01\n",
       "7627     45 2003-10-01\n",
       "9615     61 2004-01-01"
      ]
     },
     "execution_count": 17,
     "metadata": {},
     "output_type": "execute_result"
    }
   ],
   "source": [
    "theft_from_person_data.head()"
   ]
  },
  {
   "cell_type": "code",
   "execution_count": 18,
   "metadata": {},
   "outputs": [],
   "source": [
    "theft_from_person_data.columns =['y', 'ds']"
   ]
  },
  {
   "cell_type": "code",
   "execution_count": 19,
   "metadata": {},
   "outputs": [
    {
     "data": {
      "text/html": [
       "<div>\n",
       "<style scoped>\n",
       "    .dataframe tbody tr th:only-of-type {\n",
       "        vertical-align: middle;\n",
       "    }\n",
       "\n",
       "    .dataframe tbody tr th {\n",
       "        vertical-align: top;\n",
       "    }\n",
       "\n",
       "    .dataframe thead th {\n",
       "        text-align: right;\n",
       "    }\n",
       "</style>\n",
       "<table border=\"1\" class=\"dataframe\">\n",
       "  <thead>\n",
       "    <tr style=\"text-align: right;\">\n",
       "      <th></th>\n",
       "      <th>y</th>\n",
       "      <th>ds</th>\n",
       "    </tr>\n",
       "  </thead>\n",
       "  <tbody>\n",
       "    <tr>\n",
       "      <th>1663</th>\n",
       "      <td>74</td>\n",
       "      <td>2003-01-01</td>\n",
       "    </tr>\n",
       "    <tr>\n",
       "      <th>3651</th>\n",
       "      <td>55</td>\n",
       "      <td>2003-04-01</td>\n",
       "    </tr>\n",
       "    <tr>\n",
       "      <th>5639</th>\n",
       "      <td>76</td>\n",
       "      <td>2003-07-01</td>\n",
       "    </tr>\n",
       "    <tr>\n",
       "      <th>7627</th>\n",
       "      <td>45</td>\n",
       "      <td>2003-10-01</td>\n",
       "    </tr>\n",
       "    <tr>\n",
       "      <th>9615</th>\n",
       "      <td>61</td>\n",
       "      <td>2004-01-01</td>\n",
       "    </tr>\n",
       "  </tbody>\n",
       "</table>\n",
       "</div>"
      ],
      "text/plain": [
       "       y         ds\n",
       "1663  74 2003-01-01\n",
       "3651  55 2003-04-01\n",
       "5639  76 2003-07-01\n",
       "7627  45 2003-10-01\n",
       "9615  61 2004-01-01"
      ]
     },
     "execution_count": 19,
     "metadata": {},
     "output_type": "execute_result"
    }
   ],
   "source": [
    "theft_from_person_data.head()"
   ]
  },
  {
   "cell_type": "code",
   "execution_count": 20,
   "metadata": {},
   "outputs": [],
   "source": [
    "# Extracting only the year from the 'ds' column\n",
    "#data['ds'] = data['ds'].dt.year"
   ]
  },
  {
   "cell_type": "code",
   "execution_count": 21,
   "metadata": {},
   "outputs": [
    {
     "name": "stderr",
     "output_type": "stream",
     "text": [
      "WARNING - (NP.forecaster.fit) - When Global modeling with local normalization, metrics are displayed in normalized scale.\n",
      "INFO - (NP.df_utils._infer_frequency) - Major frequency QS corresponds to 79.762% of the data.\n",
      "INFO - (NP.df_utils._infer_frequency) - Defined frequency is equal to major frequency - QS\n",
      "INFO - (NP.config.init_data_params) - Setting normalization to global as only one dataframe provided for training.\n",
      "INFO - (NP.utils.set_auto_seasonalities) - Disabling weekly seasonality. Run NeuralProphet with weekly_seasonality=True to override this.\n",
      "INFO - (NP.utils.set_auto_seasonalities) - Disabling daily seasonality. Run NeuralProphet with daily_seasonality=True to override this.\n",
      "INFO - (NP.config.set_auto_batch_epoch) - Auto-set batch_size to 8\n",
      "WARNING - (NP.config.set_lr_finder_args) - Learning rate finder: The number of batches (11) is too small than the required number                     for the learning rate finder (206). The results might not be optimal.\n"
     ]
    },
    {
     "data": {
      "application/vnd.jupyter.widget-view+json": {
       "model_id": "3ac25256cdf44dfeb8a0abe6d4a8aad0",
       "version_major": 2,
       "version_minor": 0
      },
      "text/plain": [
       "Finding best initial lr:   0%|          | 0/206 [00:00<?, ?it/s]"
      ]
     },
     "metadata": {},
     "output_type": "display_data"
    },
    {
     "data": {
      "application/vnd.jupyter.widget-view+json": {
       "model_id": "bb916838ceb845cd800b13ea7e759b06",
       "version_major": 2,
       "version_minor": 0
      },
      "text/plain": [
       "Training: 0it [00:00, ?it/s]"
      ]
     },
     "metadata": {},
     "output_type": "display_data"
    },
    {
     "data": {
      "text/html": [
       "<div>\n",
       "<style scoped>\n",
       "    .dataframe tbody tr th:only-of-type {\n",
       "        vertical-align: middle;\n",
       "    }\n",
       "\n",
       "    .dataframe tbody tr th {\n",
       "        vertical-align: top;\n",
       "    }\n",
       "\n",
       "    .dataframe thead th {\n",
       "        text-align: right;\n",
       "    }\n",
       "</style>\n",
       "<table border=\"1\" class=\"dataframe\">\n",
       "  <thead>\n",
       "    <tr style=\"text-align: right;\">\n",
       "      <th></th>\n",
       "      <th>MAE</th>\n",
       "      <th>RMSE</th>\n",
       "      <th>Loss</th>\n",
       "      <th>RegLoss</th>\n",
       "      <th>epoch</th>\n",
       "    </tr>\n",
       "  </thead>\n",
       "  <tbody>\n",
       "    <tr>\n",
       "      <th>0</th>\n",
       "      <td>78.248772</td>\n",
       "      <td>82.654633</td>\n",
       "      <td>0.764459</td>\n",
       "      <td>0.0</td>\n",
       "      <td>0</td>\n",
       "    </tr>\n",
       "    <tr>\n",
       "      <th>1</th>\n",
       "      <td>71.992950</td>\n",
       "      <td>76.764313</td>\n",
       "      <td>0.694087</td>\n",
       "      <td>0.0</td>\n",
       "      <td>1</td>\n",
       "    </tr>\n",
       "    <tr>\n",
       "      <th>2</th>\n",
       "      <td>65.301064</td>\n",
       "      <td>70.005928</td>\n",
       "      <td>0.618153</td>\n",
       "      <td>0.0</td>\n",
       "      <td>2</td>\n",
       "    </tr>\n",
       "    <tr>\n",
       "      <th>3</th>\n",
       "      <td>59.121334</td>\n",
       "      <td>63.600632</td>\n",
       "      <td>0.551075</td>\n",
       "      <td>0.0</td>\n",
       "      <td>3</td>\n",
       "    </tr>\n",
       "    <tr>\n",
       "      <th>4</th>\n",
       "      <td>53.518932</td>\n",
       "      <td>58.688232</td>\n",
       "      <td>0.488362</td>\n",
       "      <td>0.0</td>\n",
       "      <td>4</td>\n",
       "    </tr>\n",
       "    <tr>\n",
       "      <th>...</th>\n",
       "      <td>...</td>\n",
       "      <td>...</td>\n",
       "      <td>...</td>\n",
       "      <td>...</td>\n",
       "      <td>...</td>\n",
       "    </tr>\n",
       "    <tr>\n",
       "      <th>995</th>\n",
       "      <td>6.288447</td>\n",
       "      <td>8.119532</td>\n",
       "      <td>0.016343</td>\n",
       "      <td>0.0</td>\n",
       "      <td>995</td>\n",
       "    </tr>\n",
       "    <tr>\n",
       "      <th>996</th>\n",
       "      <td>6.158494</td>\n",
       "      <td>7.846254</td>\n",
       "      <td>0.015991</td>\n",
       "      <td>0.0</td>\n",
       "      <td>996</td>\n",
       "    </tr>\n",
       "    <tr>\n",
       "      <th>997</th>\n",
       "      <td>6.213921</td>\n",
       "      <td>8.151936</td>\n",
       "      <td>0.016204</td>\n",
       "      <td>0.0</td>\n",
       "      <td>997</td>\n",
       "    </tr>\n",
       "    <tr>\n",
       "      <th>998</th>\n",
       "      <td>6.379576</td>\n",
       "      <td>8.253133</td>\n",
       "      <td>0.016918</td>\n",
       "      <td>0.0</td>\n",
       "      <td>998</td>\n",
       "    </tr>\n",
       "    <tr>\n",
       "      <th>999</th>\n",
       "      <td>6.260323</td>\n",
       "      <td>8.063439</td>\n",
       "      <td>0.016249</td>\n",
       "      <td>0.0</td>\n",
       "      <td>999</td>\n",
       "    </tr>\n",
       "  </tbody>\n",
       "</table>\n",
       "<p>1000 rows × 5 columns</p>\n",
       "</div>"
      ],
      "text/plain": [
       "           MAE       RMSE      Loss  RegLoss  epoch\n",
       "0    78.248772  82.654633  0.764459      0.0      0\n",
       "1    71.992950  76.764313  0.694087      0.0      1\n",
       "2    65.301064  70.005928  0.618153      0.0      2\n",
       "3    59.121334  63.600632  0.551075      0.0      3\n",
       "4    53.518932  58.688232  0.488362      0.0      4\n",
       "..         ...        ...       ...      ...    ...\n",
       "995   6.288447   8.119532  0.016343      0.0    995\n",
       "996   6.158494   7.846254  0.015991      0.0    996\n",
       "997   6.213921   8.151936  0.016204      0.0    997\n",
       "998   6.379576   8.253133  0.016918      0.0    998\n",
       "999   6.260323   8.063439  0.016249      0.0    999\n",
       "\n",
       "[1000 rows x 5 columns]"
      ]
     },
     "execution_count": 21,
     "metadata": {},
     "output_type": "execute_result"
    }
   ],
   "source": [
    "m = NeuralProphet()\n",
    "m.fit(theft_from_person_data, freq = 'Q', epochs = 1000)"
   ]
  },
  {
   "cell_type": "code",
   "execution_count": 22,
   "metadata": {},
   "outputs": [
    {
     "name": "stderr",
     "output_type": "stream",
     "text": [
      "INFO - (NP.df_utils._infer_frequency) - Major frequency QS corresponds to 79.762% of the data.\n",
      "INFO - (NP.df_utils._infer_frequency) - Defined frequency is equal to major frequency - QS\n",
      "INFO - (NP.df_utils.return_df_in_original_format) - Returning df with no ID column\n",
      "INFO - (NP.df_utils._infer_frequency) - Major frequency QS corresponds to 70.0% of the data.\n",
      "INFO - (NP.df_utils._infer_frequency) - Defined frequency is equal to major frequency - QS\n",
      "INFO - (NP.df_utils._infer_frequency) - Major frequency QS corresponds to 70.0% of the data.\n",
      "INFO - (NP.df_utils._infer_frequency) - Defined frequency is equal to major frequency - QS\n"
     ]
    },
    {
     "data": {
      "application/vnd.jupyter.widget-view+json": {
       "model_id": "18a2cd6254f94c74bce93cee773c0b88",
       "version_major": 2,
       "version_minor": 0
      },
      "text/plain": [
       "Predicting: 11it [00:00, ?it/s]"
      ]
     },
     "metadata": {},
     "output_type": "display_data"
    },
    {
     "name": "stderr",
     "output_type": "stream",
     "text": [
      "INFO - (NP.df_utils.return_df_in_original_format) - Returning df with no ID column\n"
     ]
    },
    {
     "data": {
      "text/html": [
       "<div>\n",
       "<style scoped>\n",
       "    .dataframe tbody tr th:only-of-type {\n",
       "        vertical-align: middle;\n",
       "    }\n",
       "\n",
       "    .dataframe tbody tr th {\n",
       "        vertical-align: top;\n",
       "    }\n",
       "\n",
       "    .dataframe thead th {\n",
       "        text-align: right;\n",
       "    }\n",
       "</style>\n",
       "<table border=\"1\" class=\"dataframe\">\n",
       "  <thead>\n",
       "    <tr style=\"text-align: right;\">\n",
       "      <th></th>\n",
       "      <th>ds</th>\n",
       "      <th>y</th>\n",
       "      <th>yhat1</th>\n",
       "      <th>trend</th>\n",
       "      <th>season_yearly</th>\n",
       "    </tr>\n",
       "  </thead>\n",
       "  <tbody>\n",
       "    <tr>\n",
       "      <th>0</th>\n",
       "      <td>2024-01-01</td>\n",
       "      <td>None</td>\n",
       "      <td>33.720352</td>\n",
       "      <td>70.576324</td>\n",
       "      <td>-36.855968</td>\n",
       "    </tr>\n",
       "    <tr>\n",
       "      <th>1</th>\n",
       "      <td>2024-04-01</td>\n",
       "      <td>None</td>\n",
       "      <td>23.960318</td>\n",
       "      <td>69.731415</td>\n",
       "      <td>-45.771099</td>\n",
       "    </tr>\n",
       "    <tr>\n",
       "      <th>2</th>\n",
       "      <td>2024-07-01</td>\n",
       "      <td>None</td>\n",
       "      <td>24.083225</td>\n",
       "      <td>68.886505</td>\n",
       "      <td>-44.803280</td>\n",
       "    </tr>\n",
       "    <tr>\n",
       "      <th>3</th>\n",
       "      <td>2024-10-01</td>\n",
       "      <td>None</td>\n",
       "      <td>19.086040</td>\n",
       "      <td>68.032303</td>\n",
       "      <td>-48.946262</td>\n",
       "    </tr>\n",
       "    <tr>\n",
       "      <th>4</th>\n",
       "      <td>2025-01-01</td>\n",
       "      <td>None</td>\n",
       "      <td>23.864420</td>\n",
       "      <td>67.178116</td>\n",
       "      <td>-43.313690</td>\n",
       "    </tr>\n",
       "    <tr>\n",
       "      <th>5</th>\n",
       "      <td>2025-04-01</td>\n",
       "      <td>None</td>\n",
       "      <td>23.413872</td>\n",
       "      <td>66.342499</td>\n",
       "      <td>-42.928623</td>\n",
       "    </tr>\n",
       "    <tr>\n",
       "      <th>6</th>\n",
       "      <td>2025-07-01</td>\n",
       "      <td>None</td>\n",
       "      <td>23.393831</td>\n",
       "      <td>65.497581</td>\n",
       "      <td>-42.103752</td>\n",
       "    </tr>\n",
       "    <tr>\n",
       "      <th>7</th>\n",
       "      <td>2025-10-01</td>\n",
       "      <td>None</td>\n",
       "      <td>19.517349</td>\n",
       "      <td>64.643387</td>\n",
       "      <td>-45.126041</td>\n",
       "    </tr>\n",
       "    <tr>\n",
       "      <th>8</th>\n",
       "      <td>2026-01-01</td>\n",
       "      <td>None</td>\n",
       "      <td>22.599329</td>\n",
       "      <td>63.789200</td>\n",
       "      <td>-41.189869</td>\n",
       "    </tr>\n",
       "    <tr>\n",
       "      <th>9</th>\n",
       "      <td>2026-04-01</td>\n",
       "      <td>None</td>\n",
       "      <td>22.848492</td>\n",
       "      <td>62.953575</td>\n",
       "      <td>-40.105083</td>\n",
       "    </tr>\n",
       "  </tbody>\n",
       "</table>\n",
       "</div>"
      ],
      "text/plain": [
       "          ds     y      yhat1      trend  season_yearly\n",
       "0 2024-01-01  None  33.720352  70.576324     -36.855968\n",
       "1 2024-04-01  None  23.960318  69.731415     -45.771099\n",
       "2 2024-07-01  None  24.083225  68.886505     -44.803280\n",
       "3 2024-10-01  None  19.086040  68.032303     -48.946262\n",
       "4 2025-01-01  None  23.864420  67.178116     -43.313690\n",
       "5 2025-04-01  None  23.413872  66.342499     -42.928623\n",
       "6 2025-07-01  None  23.393831  65.497581     -42.103752\n",
       "7 2025-10-01  None  19.517349  64.643387     -45.126041\n",
       "8 2026-01-01  None  22.599329  63.789200     -41.189869\n",
       "9 2026-04-01  None  22.848492  62.953575     -40.105083"
      ]
     },
     "execution_count": 22,
     "metadata": {},
     "output_type": "execute_result"
    }
   ],
   "source": [
    "future = m.make_future_dataframe(theft_from_person_data, periods=10)\n",
    "forecast = m.predict(future)\n",
    "forecast.head(20)"
   ]
  },
  {
   "cell_type": "markdown",
   "metadata": {},
   "source": [
    "# Prophet"
   ]
  },
  {
   "cell_type": "code",
   "execution_count": 23,
   "metadata": {},
   "outputs": [],
   "source": [
    "from prophet import Prophet"
   ]
  },
  {
   "cell_type": "code",
   "execution_count": 24,
   "metadata": {},
   "outputs": [
    {
     "data": {
      "text/html": [
       "<div>\n",
       "<style scoped>\n",
       "    .dataframe tbody tr th:only-of-type {\n",
       "        vertical-align: middle;\n",
       "    }\n",
       "\n",
       "    .dataframe tbody tr th {\n",
       "        vertical-align: top;\n",
       "    }\n",
       "\n",
       "    .dataframe thead th {\n",
       "        text-align: right;\n",
       "    }\n",
       "</style>\n",
       "<table border=\"1\" class=\"dataframe\">\n",
       "  <thead>\n",
       "    <tr style=\"text-align: right;\">\n",
       "      <th></th>\n",
       "      <th>y</th>\n",
       "      <th>ds</th>\n",
       "    </tr>\n",
       "  </thead>\n",
       "  <tbody>\n",
       "    <tr>\n",
       "      <th>count</th>\n",
       "      <td>84.000000</td>\n",
       "      <td>84</td>\n",
       "    </tr>\n",
       "    <tr>\n",
       "      <th>mean</th>\n",
       "      <td>53.523810</td>\n",
       "      <td>2013-05-16 19:08:34.285714176</td>\n",
       "    </tr>\n",
       "    <tr>\n",
       "      <th>min</th>\n",
       "      <td>24.000000</td>\n",
       "      <td>2003-01-01 00:00:00</td>\n",
       "    </tr>\n",
       "    <tr>\n",
       "      <th>25%</th>\n",
       "      <td>40.750000</td>\n",
       "      <td>2008-03-09 06:00:00</td>\n",
       "    </tr>\n",
       "    <tr>\n",
       "      <th>50%</th>\n",
       "      <td>48.000000</td>\n",
       "      <td>2013-05-16 12:00:00</td>\n",
       "    </tr>\n",
       "    <tr>\n",
       "      <th>75%</th>\n",
       "      <td>61.750000</td>\n",
       "      <td>2018-07-24 00:00:00</td>\n",
       "    </tr>\n",
       "    <tr>\n",
       "      <th>max</th>\n",
       "      <td>113.000000</td>\n",
       "      <td>2023-10-01 00:00:00</td>\n",
       "    </tr>\n",
       "    <tr>\n",
       "      <th>std</th>\n",
       "      <td>18.522846</td>\n",
       "      <td>NaN</td>\n",
       "    </tr>\n",
       "  </tbody>\n",
       "</table>\n",
       "</div>"
      ],
      "text/plain": [
       "                y                             ds\n",
       "count   84.000000                             84\n",
       "mean    53.523810  2013-05-16 19:08:34.285714176\n",
       "min     24.000000            2003-01-01 00:00:00\n",
       "25%     40.750000            2008-03-09 06:00:00\n",
       "50%     48.000000            2013-05-16 12:00:00\n",
       "75%     61.750000            2018-07-24 00:00:00\n",
       "max    113.000000            2023-10-01 00:00:00\n",
       "std     18.522846                            NaN"
      ]
     },
     "execution_count": 24,
     "metadata": {},
     "output_type": "execute_result"
    }
   ],
   "source": [
    "theft_from_person_data.describe()"
   ]
  },
  {
   "cell_type": "code",
   "execution_count": null,
   "metadata": {},
   "outputs": [],
   "source": [
    "\n"
   ]
  },
  {
   "cell_type": "code",
   "execution_count": 25,
   "metadata": {},
   "outputs": [
    {
     "name": "stderr",
     "output_type": "stream",
     "text": [
      "14:01:56 - cmdstanpy - INFO - Chain [1] start processing\n",
      "14:01:57 - cmdstanpy - INFO - Chain [1] done processing\n"
     ]
    }
   ],
   "source": [
    "m_prophet = Prophet(\n",
    "    changepoint_prior_scale=0.5,   # Default is 0.05, increase for more flexibility\n",
    "    seasonality_prior_scale=10.0,  # Default is 10, adjust as needed\n",
    "    holidays_prior_scale=0.1,      # Default is 10, decrease for less flexible holidays\n",
    "    seasonality_mode='multiplicative'  # Especially useful if seasonality magnitude grows over time\n",
    ")\n",
    "model_prophet = m_prophet.fit(theft_from_person_data)"
   ]
  },
  {
   "cell_type": "code",
   "execution_count": 26,
   "metadata": {},
   "outputs": [],
   "source": [
    "future_prophet = m_prophet.make_future_dataframe(periods=8, freq = 'QS')\n"
   ]
  },
  {
   "cell_type": "code",
   "execution_count": 27,
   "metadata": {},
   "outputs": [
    {
     "data": {
      "text/html": [
       "<div>\n",
       "<style scoped>\n",
       "    .dataframe tbody tr th:only-of-type {\n",
       "        vertical-align: middle;\n",
       "    }\n",
       "\n",
       "    .dataframe tbody tr th {\n",
       "        vertical-align: top;\n",
       "    }\n",
       "\n",
       "    .dataframe thead th {\n",
       "        text-align: right;\n",
       "    }\n",
       "</style>\n",
       "<table border=\"1\" class=\"dataframe\">\n",
       "  <thead>\n",
       "    <tr style=\"text-align: right;\">\n",
       "      <th></th>\n",
       "      <th>ds</th>\n",
       "      <th>trend</th>\n",
       "      <th>yhat_lower</th>\n",
       "      <th>yhat_upper</th>\n",
       "      <th>trend_lower</th>\n",
       "      <th>trend_upper</th>\n",
       "      <th>multiplicative_terms</th>\n",
       "      <th>multiplicative_terms_lower</th>\n",
       "      <th>multiplicative_terms_upper</th>\n",
       "      <th>yearly</th>\n",
       "      <th>yearly_lower</th>\n",
       "      <th>yearly_upper</th>\n",
       "      <th>additive_terms</th>\n",
       "      <th>additive_terms_lower</th>\n",
       "      <th>additive_terms_upper</th>\n",
       "      <th>yhat</th>\n",
       "    </tr>\n",
       "  </thead>\n",
       "  <tbody>\n",
       "    <tr>\n",
       "      <th>87</th>\n",
       "      <td>2024-10-01</td>\n",
       "      <td>0.887274</td>\n",
       "      <td>4.220398</td>\n",
       "      <td>48.806480</td>\n",
       "      <td>0.155834</td>\n",
       "      <td>1.536229</td>\n",
       "      <td>29.374961</td>\n",
       "      <td>29.374961</td>\n",
       "      <td>29.374961</td>\n",
       "      <td>29.374961</td>\n",
       "      <td>29.374961</td>\n",
       "      <td>29.374961</td>\n",
       "      <td>0.0</td>\n",
       "      <td>0.0</td>\n",
       "      <td>0.0</td>\n",
       "      <td>26.950915</td>\n",
       "    </tr>\n",
       "    <tr>\n",
       "      <th>88</th>\n",
       "      <td>2025-01-01</td>\n",
       "      <td>0.865630</td>\n",
       "      <td>-6.159929</td>\n",
       "      <td>65.646498</td>\n",
       "      <td>-0.163035</td>\n",
       "      <td>1.811683</td>\n",
       "      <td>33.756200</td>\n",
       "      <td>33.756200</td>\n",
       "      <td>33.756200</td>\n",
       "      <td>33.756200</td>\n",
       "      <td>33.756200</td>\n",
       "      <td>33.756200</td>\n",
       "      <td>0.0</td>\n",
       "      <td>0.0</td>\n",
       "      <td>0.0</td>\n",
       "      <td>30.086014</td>\n",
       "    </tr>\n",
       "    <tr>\n",
       "      <th>89</th>\n",
       "      <td>2025-04-01</td>\n",
       "      <td>0.844457</td>\n",
       "      <td>-15.456187</td>\n",
       "      <td>68.476843</td>\n",
       "      <td>-0.500825</td>\n",
       "      <td>2.150669</td>\n",
       "      <td>30.542623</td>\n",
       "      <td>30.542623</td>\n",
       "      <td>30.542623</td>\n",
       "      <td>30.542623</td>\n",
       "      <td>30.542623</td>\n",
       "      <td>30.542623</td>\n",
       "      <td>0.0</td>\n",
       "      <td>0.0</td>\n",
       "      <td>0.0</td>\n",
       "      <td>26.636380</td>\n",
       "    </tr>\n",
       "    <tr>\n",
       "      <th>90</th>\n",
       "      <td>2025-07-01</td>\n",
       "      <td>0.823048</td>\n",
       "      <td>-29.485525</td>\n",
       "      <td>82.703118</td>\n",
       "      <td>-0.868826</td>\n",
       "      <td>2.501281</td>\n",
       "      <td>31.286210</td>\n",
       "      <td>31.286210</td>\n",
       "      <td>31.286210</td>\n",
       "      <td>31.286210</td>\n",
       "      <td>31.286210</td>\n",
       "      <td>31.286210</td>\n",
       "      <td>0.0</td>\n",
       "      <td>0.0</td>\n",
       "      <td>0.0</td>\n",
       "      <td>26.573102</td>\n",
       "    </tr>\n",
       "    <tr>\n",
       "      <th>91</th>\n",
       "      <td>2025-10-01</td>\n",
       "      <td>0.801404</td>\n",
       "      <td>-39.176912</td>\n",
       "      <td>91.503010</td>\n",
       "      <td>-1.240740</td>\n",
       "      <td>2.845809</td>\n",
       "      <td>30.270901</td>\n",
       "      <td>30.270901</td>\n",
       "      <td>30.270901</td>\n",
       "      <td>30.270901</td>\n",
       "      <td>30.270901</td>\n",
       "      <td>30.270901</td>\n",
       "      <td>0.0</td>\n",
       "      <td>0.0</td>\n",
       "      <td>0.0</td>\n",
       "      <td>25.060629</td>\n",
       "    </tr>\n",
       "  </tbody>\n",
       "</table>\n",
       "</div>"
      ],
      "text/plain": [
       "           ds     trend  yhat_lower  yhat_upper  trend_lower  trend_upper  \\\n",
       "87 2024-10-01  0.887274    4.220398   48.806480     0.155834     1.536229   \n",
       "88 2025-01-01  0.865630   -6.159929   65.646498    -0.163035     1.811683   \n",
       "89 2025-04-01  0.844457  -15.456187   68.476843    -0.500825     2.150669   \n",
       "90 2025-07-01  0.823048  -29.485525   82.703118    -0.868826     2.501281   \n",
       "91 2025-10-01  0.801404  -39.176912   91.503010    -1.240740     2.845809   \n",
       "\n",
       "    multiplicative_terms  multiplicative_terms_lower  \\\n",
       "87             29.374961                   29.374961   \n",
       "88             33.756200                   33.756200   \n",
       "89             30.542623                   30.542623   \n",
       "90             31.286210                   31.286210   \n",
       "91             30.270901                   30.270901   \n",
       "\n",
       "    multiplicative_terms_upper     yearly  yearly_lower  yearly_upper  \\\n",
       "87                   29.374961  29.374961     29.374961     29.374961   \n",
       "88                   33.756200  33.756200     33.756200     33.756200   \n",
       "89                   30.542623  30.542623     30.542623     30.542623   \n",
       "90                   31.286210  31.286210     31.286210     31.286210   \n",
       "91                   30.270901  30.270901     30.270901     30.270901   \n",
       "\n",
       "    additive_terms  additive_terms_lower  additive_terms_upper       yhat  \n",
       "87             0.0                   0.0                   0.0  26.950915  \n",
       "88             0.0                   0.0                   0.0  30.086014  \n",
       "89             0.0                   0.0                   0.0  26.636380  \n",
       "90             0.0                   0.0                   0.0  26.573102  \n",
       "91             0.0                   0.0                   0.0  25.060629  "
      ]
     },
     "execution_count": 27,
     "metadata": {},
     "output_type": "execute_result"
    }
   ],
   "source": [
    "forecast_prophet = m_prophet.predict(future_prophet)\n",
    "forecast_prophet.tail(5)\n",
    "\n"
   ]
  },
  {
   "cell_type": "code",
   "execution_count": 28,
   "metadata": {},
   "outputs": [
    {
     "data": {
      "text/html": [
       "<div>\n",
       "<style scoped>\n",
       "    .dataframe tbody tr th:only-of-type {\n",
       "        vertical-align: middle;\n",
       "    }\n",
       "\n",
       "    .dataframe tbody tr th {\n",
       "        vertical-align: top;\n",
       "    }\n",
       "\n",
       "    .dataframe thead th {\n",
       "        text-align: right;\n",
       "    }\n",
       "</style>\n",
       "<table border=\"1\" class=\"dataframe\">\n",
       "  <thead>\n",
       "    <tr style=\"text-align: right;\">\n",
       "      <th></th>\n",
       "      <th>ds</th>\n",
       "      <th>yhat</th>\n",
       "    </tr>\n",
       "  </thead>\n",
       "  <tbody>\n",
       "    <tr>\n",
       "      <th>85</th>\n",
       "      <td>2024-04-01</td>\n",
       "      <td>29.390235</td>\n",
       "    </tr>\n",
       "    <tr>\n",
       "      <th>86</th>\n",
       "      <td>2024-07-01</td>\n",
       "      <td>28.831110</td>\n",
       "    </tr>\n",
       "    <tr>\n",
       "      <th>87</th>\n",
       "      <td>2024-10-01</td>\n",
       "      <td>26.950915</td>\n",
       "    </tr>\n",
       "    <tr>\n",
       "      <th>88</th>\n",
       "      <td>2025-01-01</td>\n",
       "      <td>30.086014</td>\n",
       "    </tr>\n",
       "    <tr>\n",
       "      <th>89</th>\n",
       "      <td>2025-04-01</td>\n",
       "      <td>26.636380</td>\n",
       "    </tr>\n",
       "    <tr>\n",
       "      <th>90</th>\n",
       "      <td>2025-07-01</td>\n",
       "      <td>26.573102</td>\n",
       "    </tr>\n",
       "    <tr>\n",
       "      <th>91</th>\n",
       "      <td>2025-10-01</td>\n",
       "      <td>25.060629</td>\n",
       "    </tr>\n",
       "  </tbody>\n",
       "</table>\n",
       "</div>"
      ],
      "text/plain": [
       "           ds       yhat\n",
       "85 2024-04-01  29.390235\n",
       "86 2024-07-01  28.831110\n",
       "87 2024-10-01  26.950915\n",
       "88 2025-01-01  30.086014\n",
       "89 2025-04-01  26.636380\n",
       "90 2025-07-01  26.573102\n",
       "91 2025-10-01  25.060629"
      ]
     },
     "execution_count": 28,
     "metadata": {},
     "output_type": "execute_result"
    }
   ],
   "source": [
    "forecast_prophet[['ds', 'yhat']].tail(7)\n"
   ]
  },
  {
   "cell_type": "code",
   "execution_count": 29,
   "metadata": {},
   "outputs": [
    {
     "data": {
      "image/png": "[encoded data removed]",
      "text/plain": [
       "<Figure size 1000x600 with 1 Axes>"
      ]
     },
     "metadata": {},
     "output_type": "display_data"
    }
   ],
   "source": [
    "plot1 = m_prophet.plot(forecast_prophet)"
   ]
  },
  {
   "cell_type": "code",
   "execution_count": 30,
   "metadata": {},
   "outputs": [
    {
     "data": {
      "image/png": "[encoded data removed]",
      "text/plain": [
       "<Figure size 900x600 with 2 Axes>"
      ]
     },
     "metadata": {},
     "output_type": "display_data"
    }
   ],
   "source": [
    "plot2 = m_prophet.plot_components(forecast_prophet)"
   ]
  },
  {
   "cell_type": "code",
   "execution_count": 31,
   "metadata": {},
   "outputs": [],
   "source": [
    "from sklearn.metrics import r2_score"
   ]
  },
  {
   "cell_type": "code",
   "execution_count": 32,
   "metadata": {},
   "outputs": [
    {
     "name": "stdout",
     "output_type": "stream",
     "text": [
      "R² Score: 0.8670739756440806\n"
     ]
    }
   ],
   "source": [
    "# Assuming 'theft_from_person_data' is your actual data and 'forecast' is your prediction\n",
    "# Filter 'forecast' to match the date range in 'theft_from_person_data'\n",
    "forecast_filtered = forecast_prophet[forecast_prophet['ds'].isin(theft_from_person_data['ds'])]\n",
    "\n",
    "# Now, reassign y_pred to make sure it only includes matched predictions\n",
    "y_pred = forecast_filtered['yhat'].values\n",
    "y_true = theft_from_person_data['y'].values\n",
    "\n",
    "# Calculate R² score\n",
    "r2 = r2_score(y_true, y_pred)\n",
    "print(f\"R² Score: {r2}\")\n",
    "\n"
   ]
  },
  {
   "cell_type": "code",
   "execution_count": 33,
   "metadata": {},
   "outputs": [],
   "source": [
    "from prophet.diagnostics import cross_validation, performance_metrics"
   ]
  },
  {
   "cell_type": "code",
   "execution_count": null,
   "metadata": {},
   "outputs": [],
   "source": []
  }
 ],
 "metadata": {
  "kernelspec": {
   "display_name": "Python 3 (ipykernel)",
   "language": "python",
   "name": "python3"
  },
  "language_info": {
   "codemirror_mode": {
    "name": "ipython",
    "version": 3
   },
   "file_extension": ".py",
   "mimetype": "text/x-python",
   "name": "python",
   "nbconvert_exporter": "python",
   "pygments_lexer": "ipython3",
   "version": "3.11.7"
  }
 },
 "nbformat": 4,
 "nbformat_minor": 4
}
