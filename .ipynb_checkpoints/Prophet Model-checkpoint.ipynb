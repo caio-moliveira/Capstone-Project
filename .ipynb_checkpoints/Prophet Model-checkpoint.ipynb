{
 "cells": [
  {
   "cell_type": "code",
   "execution_count": 1,
   "metadata": {},
   "outputs": [],
   "source": [
    "import warnings;\n",
    "warnings.simplefilter('ignore')"
   ]
  },
  {
   "cell_type": "code",
   "execution_count": 2,
   "metadata": {},
   "outputs": [],
   "source": [
    "#!pip install prophet"
   ]
  },
  {
   "cell_type": "code",
   "execution_count": 3,
   "metadata": {},
   "outputs": [],
   "source": [
    "import pandas as pd\n",
    "from matplotlib import pyplot as plt\n",
    "import pickle\n",
    "import numpy as np\n",
    "from neuralprophet import NeuralProphet\n"
   ]
  },
  {
   "cell_type": "code",
   "execution_count": 4,
   "metadata": {},
   "outputs": [],
   "source": [
    "data = pd.read_csv('crime-per-county.csv')"
   ]
  },
  {
   "cell_type": "code",
   "execution_count": 5,
   "metadata": {},
   "outputs": [
    {
     "data": {
      "text/html": [
       "<div>\n",
       "<style scoped>\n",
       "    .dataframe tbody tr th:only-of-type {\n",
       "        vertical-align: middle;\n",
       "    }\n",
       "\n",
       "    .dataframe tbody tr th {\n",
       "        vertical-align: top;\n",
       "    }\n",
       "\n",
       "    .dataframe thead th {\n",
       "        text-align: right;\n",
       "    }\n",
       "</style>\n",
       "<table border=\"1\" class=\"dataframe\">\n",
       "  <thead>\n",
       "    <tr style=\"text-align: right;\">\n",
       "      <th></th>\n",
       "      <th>STATISTIC Label</th>\n",
       "      <th>Quarter</th>\n",
       "      <th>Garda Division</th>\n",
       "      <th>Type of Offence</th>\n",
       "      <th>UNIT</th>\n",
       "      <th>VALUE</th>\n",
       "    </tr>\n",
       "  </thead>\n",
       "  <tbody>\n",
       "    <tr>\n",
       "      <th>0</th>\n",
       "      <td>Recorded crime incidents</td>\n",
       "      <td>2003Q1</td>\n",
       "      <td>Cavan/Monaghan Garda Division</td>\n",
       "      <td>Homicide offences</td>\n",
       "      <td>Number</td>\n",
       "      <td>1.0</td>\n",
       "    </tr>\n",
       "    <tr>\n",
       "      <th>1</th>\n",
       "      <td>Recorded crime incidents</td>\n",
       "      <td>2003Q1</td>\n",
       "      <td>Cavan/Monaghan Garda Division</td>\n",
       "      <td>Murder</td>\n",
       "      <td>Number</td>\n",
       "      <td>0.0</td>\n",
       "    </tr>\n",
       "    <tr>\n",
       "      <th>2</th>\n",
       "      <td>Recorded crime incidents</td>\n",
       "      <td>2003Q1</td>\n",
       "      <td>Cavan/Monaghan Garda Division</td>\n",
       "      <td>Manslaughter</td>\n",
       "      <td>Number</td>\n",
       "      <td>0.0</td>\n",
       "    </tr>\n",
       "    <tr>\n",
       "      <th>3</th>\n",
       "      <td>Recorded crime incidents</td>\n",
       "      <td>2003Q1</td>\n",
       "      <td>Cavan/Monaghan Garda Division</td>\n",
       "      <td>Infanticide</td>\n",
       "      <td>Number</td>\n",
       "      <td>0.0</td>\n",
       "    </tr>\n",
       "    <tr>\n",
       "      <th>4</th>\n",
       "      <td>Recorded crime incidents</td>\n",
       "      <td>2003Q1</td>\n",
       "      <td>Cavan/Monaghan Garda Division</td>\n",
       "      <td>Dangerous driving leading to death</td>\n",
       "      <td>Number</td>\n",
       "      <td>1.0</td>\n",
       "    </tr>\n",
       "  </tbody>\n",
       "</table>\n",
       "</div>"
      ],
      "text/plain": [
       "            STATISTIC Label Quarter                 Garda Division  \\\n",
       "0  Recorded crime incidents  2003Q1  Cavan/Monaghan Garda Division   \n",
       "1  Recorded crime incidents  2003Q1  Cavan/Monaghan Garda Division   \n",
       "2  Recorded crime incidents  2003Q1  Cavan/Monaghan Garda Division   \n",
       "3  Recorded crime incidents  2003Q1  Cavan/Monaghan Garda Division   \n",
       "4  Recorded crime incidents  2003Q1  Cavan/Monaghan Garda Division   \n",
       "\n",
       "                      Type of Offence    UNIT  VALUE  \n",
       "0                   Homicide offences  Number    1.0  \n",
       "1                              Murder  Number    0.0  \n",
       "2                        Manslaughter  Number    0.0  \n",
       "3                         Infanticide  Number    0.0  \n",
       "4  Dangerous driving leading to death  Number    1.0  "
      ]
     },
     "execution_count": 5,
     "metadata": {},
     "output_type": "execute_result"
    }
   ],
   "source": [
    "data.head()\n"
   ]
  },
  {
   "cell_type": "code",
   "execution_count": 6,
   "metadata": {},
   "outputs": [],
   "source": [
    "data.drop(columns =[\"STATISTIC Label\", \"UNIT\"], inplace=True)"
   ]
  },
  {
   "cell_type": "code",
   "execution_count": 7,
   "metadata": {},
   "outputs": [],
   "source": [
    "data['VALUE'] = data['VALUE'].fillna(0)\n",
    "data['VALUE'] = data['VALUE'].astype('int64')"
   ]
  },
  {
   "cell_type": "code",
   "execution_count": 8,
   "metadata": {},
   "outputs": [],
   "source": [
    "def quarter_to_date(year_quarter):\n",
    "    year, quarter = year_quarter.split('Q')\n",
    "    first_month = {'1': '01', '2' : '04' , '3' : '07' , '4' : '10'}\n",
    "    return f\"{year}-{first_month[quarter]}-1\"\n",
    "\n",
    "data['Date'] = data['Quarter'].apply(quarter_to_date)\n"
   ]
  },
  {
   "cell_type": "code",
   "execution_count": 9,
   "metadata": {},
   "outputs": [],
   "source": [
    "# Correct way using .loc to avoid SettingWithCopyWarning\n",
    "data.loc[:, 'Date'] = pd.to_datetime(data['Date'])\n",
    "\n"
   ]
  },
  {
   "cell_type": "code",
   "execution_count": 10,
   "metadata": {},
   "outputs": [],
   "source": [
    "data['Date'] = pd.to_datetime(data['Date'])"
   ]
  },
  {
   "cell_type": "code",
   "execution_count": 11,
   "metadata": {},
   "outputs": [],
   "source": [
    "#data.set_index('Date', inplace=True)"
   ]
  },
  {
   "cell_type": "code",
   "execution_count": 12,
   "metadata": {},
   "outputs": [],
   "source": [
    "data.drop(columns =['Quarter'], inplace=True)"
   ]
  },
  {
   "cell_type": "code",
   "execution_count": 13,
   "metadata": {},
   "outputs": [],
   "source": [
    "data = data[data['VALUE'] != 0]"
   ]
  },
  {
   "cell_type": "code",
   "execution_count": 14,
   "metadata": {},
   "outputs": [
    {
     "name": "stdout",
     "output_type": "stream",
     "text": [
      "<class 'pandas.core.frame.DataFrame'>\n",
      "Index: 120808 entries, 0 to 166991\n",
      "Data columns (total 4 columns):\n",
      " #   Column           Non-Null Count   Dtype         \n",
      "---  ------           --------------   -----         \n",
      " 0   Garda Division   120808 non-null  object        \n",
      " 1   Type of Offence  120808 non-null  object        \n",
      " 2   VALUE            120808 non-null  int64         \n",
      " 3   Date             120808 non-null  datetime64[ns]\n",
      "dtypes: datetime64[ns](1), int64(1), object(2)\n",
      "memory usage: 4.6+ MB\n"
     ]
    },
    {
     "data": {
      "text/html": [
       "<div>\n",
       "<style scoped>\n",
       "    .dataframe tbody tr th:only-of-type {\n",
       "        vertical-align: middle;\n",
       "    }\n",
       "\n",
       "    .dataframe tbody tr th {\n",
       "        vertical-align: top;\n",
       "    }\n",
       "\n",
       "    .dataframe thead th {\n",
       "        text-align: right;\n",
       "    }\n",
       "</style>\n",
       "<table border=\"1\" class=\"dataframe\">\n",
       "  <thead>\n",
       "    <tr style=\"text-align: right;\">\n",
       "      <th></th>\n",
       "      <th>VALUE</th>\n",
       "      <th>Date</th>\n",
       "    </tr>\n",
       "  </thead>\n",
       "  <tbody>\n",
       "    <tr>\n",
       "      <th>count</th>\n",
       "      <td>120808.000000</td>\n",
       "      <td>120808</td>\n",
       "    </tr>\n",
       "    <tr>\n",
       "      <th>mean</th>\n",
       "      <td>81.256763</td>\n",
       "      <td>2013-06-16 19:43:56.408185088</td>\n",
       "    </tr>\n",
       "    <tr>\n",
       "      <th>min</th>\n",
       "      <td>1.000000</td>\n",
       "      <td>2003-01-01 00:00:00</td>\n",
       "    </tr>\n",
       "    <tr>\n",
       "      <th>25%</th>\n",
       "      <td>2.000000</td>\n",
       "      <td>2008-04-01 00:00:00</td>\n",
       "    </tr>\n",
       "    <tr>\n",
       "      <th>50%</th>\n",
       "      <td>16.000000</td>\n",
       "      <td>2013-07-01 00:00:00</td>\n",
       "    </tr>\n",
       "    <tr>\n",
       "      <th>75%</th>\n",
       "      <td>86.000000</td>\n",
       "      <td>2018-10-01 00:00:00</td>\n",
       "    </tr>\n",
       "    <tr>\n",
       "      <th>max</th>\n",
       "      <td>2541.000000</td>\n",
       "      <td>2023-10-01 00:00:00</td>\n",
       "    </tr>\n",
       "    <tr>\n",
       "      <th>std</th>\n",
       "      <td>170.400775</td>\n",
       "      <td>NaN</td>\n",
       "    </tr>\n",
       "  </tbody>\n",
       "</table>\n",
       "</div>"
      ],
      "text/plain": [
       "               VALUE                           Date\n",
       "count  120808.000000                         120808\n",
       "mean       81.256763  2013-06-16 19:43:56.408185088\n",
       "min         1.000000            2003-01-01 00:00:00\n",
       "25%         2.000000            2008-04-01 00:00:00\n",
       "50%        16.000000            2013-07-01 00:00:00\n",
       "75%        86.000000            2018-10-01 00:00:00\n",
       "max      2541.000000            2023-10-01 00:00:00\n",
       "std       170.400775                            NaN"
      ]
     },
     "execution_count": 14,
     "metadata": {},
     "output_type": "execute_result"
    }
   ],
   "source": [
    "data.info() \n",
    "data.describe()"
   ]
  },
  {
   "cell_type": "code",
   "execution_count": 15,
   "metadata": {},
   "outputs": [],
   "source": [
    "# Filter the data for \"Theft from person\" crimes in \"D.M.R. North Central Garda Division\"\n",
    "theft_from_person_data = data[\n",
    "    (data['Type of Offence'] == 'Theft from person') & \n",
    "    (data['Garda Division'] == 'D.M.R. North Central Garda Division')\n",
    "]"
   ]
  },
  {
   "cell_type": "code",
   "execution_count": null,
   "metadata": {},
   "outputs": [],
   "source": []
  },
  {
   "cell_type": "code",
   "execution_count": 16,
   "metadata": {},
   "outputs": [],
   "source": [
    "theft_from_person_data.drop(columns =['Garda Division', 'Type of Offence'], inplace=True)"
   ]
  },
  {
   "cell_type": "code",
   "execution_count": null,
   "metadata": {},
   "outputs": [],
   "source": []
  },
  {
   "cell_type": "code",
   "execution_count": 17,
   "metadata": {},
   "outputs": [
    {
     "data": {
      "text/html": [
       "<div>\n",
       "<style scoped>\n",
       "    .dataframe tbody tr th:only-of-type {\n",
       "        vertical-align: middle;\n",
       "    }\n",
       "\n",
       "    .dataframe tbody tr th {\n",
       "        vertical-align: top;\n",
       "    }\n",
       "\n",
       "    .dataframe thead th {\n",
       "        text-align: right;\n",
       "    }\n",
       "</style>\n",
       "<table border=\"1\" class=\"dataframe\">\n",
       "  <thead>\n",
       "    <tr style=\"text-align: right;\">\n",
       "      <th></th>\n",
       "      <th>VALUE</th>\n",
       "      <th>Date</th>\n",
       "    </tr>\n",
       "  </thead>\n",
       "  <tbody>\n",
       "    <tr>\n",
       "      <th>1672</th>\n",
       "      <td>289</td>\n",
       "      <td>2003-01-01</td>\n",
       "    </tr>\n",
       "    <tr>\n",
       "      <th>3660</th>\n",
       "      <td>310</td>\n",
       "      <td>2003-04-01</td>\n",
       "    </tr>\n",
       "    <tr>\n",
       "      <th>5648</th>\n",
       "      <td>242</td>\n",
       "      <td>2003-07-01</td>\n",
       "    </tr>\n",
       "    <tr>\n",
       "      <th>7636</th>\n",
       "      <td>272</td>\n",
       "      <td>2003-10-01</td>\n",
       "    </tr>\n",
       "    <tr>\n",
       "      <th>9624</th>\n",
       "      <td>239</td>\n",
       "      <td>2004-01-01</td>\n",
       "    </tr>\n",
       "  </tbody>\n",
       "</table>\n",
       "</div>"
      ],
      "text/plain": [
       "      VALUE       Date\n",
       "1672    289 2003-01-01\n",
       "3660    310 2003-04-01\n",
       "5648    242 2003-07-01\n",
       "7636    272 2003-10-01\n",
       "9624    239 2004-01-01"
      ]
     },
     "execution_count": 17,
     "metadata": {},
     "output_type": "execute_result"
    }
   ],
   "source": [
    "theft_from_person_data.head()"
   ]
  },
  {
   "cell_type": "code",
   "execution_count": 18,
   "metadata": {},
   "outputs": [],
   "source": [
    "theft_from_person_data.columns =['y', 'ds']"
   ]
  },
  {
   "cell_type": "code",
   "execution_count": 19,
   "metadata": {},
   "outputs": [
    {
     "data": {
      "text/html": [
       "<div>\n",
       "<style scoped>\n",
       "    .dataframe tbody tr th:only-of-type {\n",
       "        vertical-align: middle;\n",
       "    }\n",
       "\n",
       "    .dataframe tbody tr th {\n",
       "        vertical-align: top;\n",
       "    }\n",
       "\n",
       "    .dataframe thead th {\n",
       "        text-align: right;\n",
       "    }\n",
       "</style>\n",
       "<table border=\"1\" class=\"dataframe\">\n",
       "  <thead>\n",
       "    <tr style=\"text-align: right;\">\n",
       "      <th></th>\n",
       "      <th>y</th>\n",
       "      <th>ds</th>\n",
       "    </tr>\n",
       "  </thead>\n",
       "  <tbody>\n",
       "    <tr>\n",
       "      <th>1672</th>\n",
       "      <td>289</td>\n",
       "      <td>2003-01-01</td>\n",
       "    </tr>\n",
       "    <tr>\n",
       "      <th>3660</th>\n",
       "      <td>310</td>\n",
       "      <td>2003-04-01</td>\n",
       "    </tr>\n",
       "    <tr>\n",
       "      <th>5648</th>\n",
       "      <td>242</td>\n",
       "      <td>2003-07-01</td>\n",
       "    </tr>\n",
       "    <tr>\n",
       "      <th>7636</th>\n",
       "      <td>272</td>\n",
       "      <td>2003-10-01</td>\n",
       "    </tr>\n",
       "    <tr>\n",
       "      <th>9624</th>\n",
       "      <td>239</td>\n",
       "      <td>2004-01-01</td>\n",
       "    </tr>\n",
       "  </tbody>\n",
       "</table>\n",
       "</div>"
      ],
      "text/plain": [
       "        y         ds\n",
       "1672  289 2003-01-01\n",
       "3660  310 2003-04-01\n",
       "5648  242 2003-07-01\n",
       "7636  272 2003-10-01\n",
       "9624  239 2004-01-01"
      ]
     },
     "execution_count": 19,
     "metadata": {},
     "output_type": "execute_result"
    }
   ],
   "source": [
    "theft_from_person_data.head()"
   ]
  },
  {
   "cell_type": "code",
   "execution_count": null,
   "metadata": {},
   "outputs": [],
   "source": [
    "# Extracting only the year from the 'ds' column\n",
    "#data['ds'] = data['ds'].dt.year"
   ]
  },
  {
   "cell_type": "code",
   "execution_count": null,
   "metadata": {},
   "outputs": [],
   "source": [
    "m = NeuralProphet()\n",
    "m.fit(theft_from_person_data, freq = 'Q', epochs = 1000)"
   ]
  },
  {
   "cell_type": "code",
   "execution_count": null,
   "metadata": {},
   "outputs": [],
   "source": [
    "future = m.make_future_dataframe(theft_from_person_data, periods=10)\n",
    "forecast = m.predict(future)\n",
    "forecast.head(20)"
   ]
  },
  {
   "cell_type": "markdown",
   "metadata": {},
   "source": [
    "# Prophet"
   ]
  },
  {
   "cell_type": "code",
   "execution_count": 20,
   "metadata": {},
   "outputs": [],
   "source": [
    "from prophet import Prophet"
   ]
  },
  {
   "cell_type": "code",
   "execution_count": 49,
   "metadata": {},
   "outputs": [
    {
     "data": {
      "text/html": [
       "<div>\n",
       "<style scoped>\n",
       "    .dataframe tbody tr th:only-of-type {\n",
       "        vertical-align: middle;\n",
       "    }\n",
       "\n",
       "    .dataframe tbody tr th {\n",
       "        vertical-align: top;\n",
       "    }\n",
       "\n",
       "    .dataframe thead th {\n",
       "        text-align: right;\n",
       "    }\n",
       "</style>\n",
       "<table border=\"1\" class=\"dataframe\">\n",
       "  <thead>\n",
       "    <tr style=\"text-align: right;\">\n",
       "      <th></th>\n",
       "      <th>y</th>\n",
       "      <th>ds</th>\n",
       "    </tr>\n",
       "  </thead>\n",
       "  <tbody>\n",
       "    <tr>\n",
       "      <th>count</th>\n",
       "      <td>84.000000</td>\n",
       "      <td>84</td>\n",
       "    </tr>\n",
       "    <tr>\n",
       "      <th>mean</th>\n",
       "      <td>248.202381</td>\n",
       "      <td>2013-05-16 19:08:34.285714176</td>\n",
       "    </tr>\n",
       "    <tr>\n",
       "      <th>min</th>\n",
       "      <td>77.000000</td>\n",
       "      <td>2003-01-01 00:00:00</td>\n",
       "    </tr>\n",
       "    <tr>\n",
       "      <th>25%</th>\n",
       "      <td>157.000000</td>\n",
       "      <td>2008-03-09 06:00:00</td>\n",
       "    </tr>\n",
       "    <tr>\n",
       "      <th>50%</th>\n",
       "      <td>245.000000</td>\n",
       "      <td>2013-05-16 12:00:00</td>\n",
       "    </tr>\n",
       "    <tr>\n",
       "      <th>75%</th>\n",
       "      <td>327.000000</td>\n",
       "      <td>2018-07-24 00:00:00</td>\n",
       "    </tr>\n",
       "    <tr>\n",
       "      <th>max</th>\n",
       "      <td>470.000000</td>\n",
       "      <td>2023-10-01 00:00:00</td>\n",
       "    </tr>\n",
       "    <tr>\n",
       "      <th>std</th>\n",
       "      <td>102.827939</td>\n",
       "      <td>NaN</td>\n",
       "    </tr>\n",
       "  </tbody>\n",
       "</table>\n",
       "</div>"
      ],
      "text/plain": [
       "                y                             ds\n",
       "count   84.000000                             84\n",
       "mean   248.202381  2013-05-16 19:08:34.285714176\n",
       "min     77.000000            2003-01-01 00:00:00\n",
       "25%    157.000000            2008-03-09 06:00:00\n",
       "50%    245.000000            2013-05-16 12:00:00\n",
       "75%    327.000000            2018-07-24 00:00:00\n",
       "max    470.000000            2023-10-01 00:00:00\n",
       "std    102.827939                            NaN"
      ]
     },
     "execution_count": 49,
     "metadata": {},
     "output_type": "execute_result"
    }
   ],
   "source": [
    "theft_from_person_data.describe()"
   ]
  },
  {
   "cell_type": "code",
   "execution_count": 22,
   "metadata": {},
   "outputs": [
    {
     "name": "stderr",
     "output_type": "stream",
     "text": [
      "16:54:51 - cmdstanpy - INFO - Chain [1] start processing\n",
      "16:54:52 - cmdstanpy - INFO - Chain [1] done processing\n"
     ]
    }
   ],
   "source": [
    "\n"
   ]
  },
  {
   "cell_type": "code",
   "execution_count": 50,
   "metadata": {},
   "outputs": [
    {
     "name": "stderr",
     "output_type": "stream",
     "text": [
      "17:13:30 - cmdstanpy - INFO - Chain [1] start processing\n",
      "17:13:31 - cmdstanpy - INFO - Chain [1] done processing\n"
     ]
    }
   ],
   "source": [
    "m_prophet = Prophet(\n",
    "    changepoint_prior_scale=0.5,   # Default is 0.05, increase for more flexibility\n",
    "    seasonality_prior_scale=10.0,  # Default is 10, adjust as needed\n",
    "    holidays_prior_scale=0.1,      # Default is 10, decrease for less flexible holidays\n",
    "    seasonality_mode='multiplicative'  # Especially useful if seasonality magnitude grows over time\n",
    ")\n",
    "model_prophet = m_prophet.fit(theft_from_person_data)"
   ]
  },
  {
   "cell_type": "code",
   "execution_count": 51,
   "metadata": {},
   "outputs": [],
   "source": [
    "future_prophet = m_prophet.make_future_dataframe(periods=8, freq = 'QS')\n"
   ]
  },
  {
   "cell_type": "code",
   "execution_count": 52,
   "metadata": {},
   "outputs": [
    {
     "data": {
      "text/plain": [
       "<DatetimeArray>\n",
       "['2003-01-01 00:00:00', '2003-04-01 00:00:00', '2003-07-01 00:00:00',\n",
       " '2003-10-01 00:00:00', '2004-01-01 00:00:00', '2004-04-01 00:00:00',\n",
       " '2004-07-01 00:00:00', '2004-10-01 00:00:00', '2005-01-01 00:00:00',\n",
       " '2005-04-01 00:00:00', '2005-07-01 00:00:00', '2005-10-01 00:00:00',\n",
       " '2006-01-01 00:00:00', '2006-04-01 00:00:00', '2006-07-01 00:00:00',\n",
       " '2006-10-01 00:00:00', '2007-01-01 00:00:00', '2007-04-01 00:00:00',\n",
       " '2007-07-01 00:00:00', '2007-10-01 00:00:00', '2008-01-01 00:00:00',\n",
       " '2008-04-01 00:00:00', '2008-07-01 00:00:00', '2008-10-01 00:00:00',\n",
       " '2009-01-01 00:00:00', '2009-04-01 00:00:00', '2009-07-01 00:00:00',\n",
       " '2009-10-01 00:00:00', '2010-01-01 00:00:00', '2010-04-01 00:00:00',\n",
       " '2010-07-01 00:00:00', '2010-10-01 00:00:00', '2011-01-01 00:00:00',\n",
       " '2011-04-01 00:00:00', '2011-07-01 00:00:00', '2011-10-01 00:00:00',\n",
       " '2012-01-01 00:00:00', '2012-04-01 00:00:00', '2012-07-01 00:00:00',\n",
       " '2012-10-01 00:00:00', '2013-01-01 00:00:00', '2013-04-01 00:00:00',\n",
       " '2013-07-01 00:00:00', '2013-10-01 00:00:00', '2014-01-01 00:00:00',\n",
       " '2014-04-01 00:00:00', '2014-07-01 00:00:00', '2014-10-01 00:00:00',\n",
       " '2015-01-01 00:00:00', '2015-04-01 00:00:00', '2015-07-01 00:00:00',\n",
       " '2015-10-01 00:00:00', '2016-01-01 00:00:00', '2016-04-01 00:00:00',\n",
       " '2016-07-01 00:00:00', '2016-10-01 00:00:00', '2017-01-01 00:00:00',\n",
       " '2017-04-01 00:00:00', '2017-07-01 00:00:00', '2017-10-01 00:00:00',\n",
       " '2018-01-01 00:00:00', '2018-04-01 00:00:00', '2018-07-01 00:00:00',\n",
       " '2018-10-01 00:00:00', '2019-01-01 00:00:00', '2019-04-01 00:00:00',\n",
       " '2019-07-01 00:00:00', '2019-10-01 00:00:00', '2020-01-01 00:00:00',\n",
       " '2020-04-01 00:00:00', '2020-07-01 00:00:00', '2020-10-01 00:00:00',\n",
       " '2021-01-01 00:00:00', '2021-04-01 00:00:00', '2021-07-01 00:00:00',\n",
       " '2021-10-01 00:00:00', '2022-01-01 00:00:00', '2022-04-01 00:00:00',\n",
       " '2022-07-01 00:00:00', '2022-10-01 00:00:00', '2023-01-01 00:00:00',\n",
       " '2023-04-01 00:00:00', '2023-07-01 00:00:00', '2023-10-01 00:00:00',\n",
       " '2024-01-01 00:00:00', '2024-04-01 00:00:00', '2024-07-01 00:00:00',\n",
       " '2024-10-01 00:00:00', '2025-01-01 00:00:00', '2025-04-01 00:00:00',\n",
       " '2025-07-01 00:00:00', '2025-10-01 00:00:00']\n",
       "Length: 92, dtype: datetime64[ns]"
      ]
     },
     "execution_count": 52,
     "metadata": {},
     "output_type": "execute_result"
    }
   ],
   "source": [
    "future_prophet['ds'].unique()"
   ]
  },
  {
   "cell_type": "code",
   "execution_count": 53,
   "metadata": {},
   "outputs": [
    {
     "data": {
      "text/html": [
       "<div>\n",
       "<style scoped>\n",
       "    .dataframe tbody tr th:only-of-type {\n",
       "        vertical-align: middle;\n",
       "    }\n",
       "\n",
       "    .dataframe tbody tr th {\n",
       "        vertical-align: top;\n",
       "    }\n",
       "\n",
       "    .dataframe thead th {\n",
       "        text-align: right;\n",
       "    }\n",
       "</style>\n",
       "<table border=\"1\" class=\"dataframe\">\n",
       "  <thead>\n",
       "    <tr style=\"text-align: right;\">\n",
       "      <th></th>\n",
       "      <th>ds</th>\n",
       "      <th>trend</th>\n",
       "      <th>yhat_lower</th>\n",
       "      <th>yhat_upper</th>\n",
       "      <th>trend_lower</th>\n",
       "      <th>trend_upper</th>\n",
       "      <th>multiplicative_terms</th>\n",
       "      <th>multiplicative_terms_lower</th>\n",
       "      <th>multiplicative_terms_upper</th>\n",
       "      <th>yearly</th>\n",
       "      <th>yearly_lower</th>\n",
       "      <th>yearly_upper</th>\n",
       "      <th>additive_terms</th>\n",
       "      <th>additive_terms_lower</th>\n",
       "      <th>additive_terms_upper</th>\n",
       "      <th>yhat</th>\n",
       "    </tr>\n",
       "  </thead>\n",
       "  <tbody>\n",
       "    <tr>\n",
       "      <th>87</th>\n",
       "      <td>2024-10-01</td>\n",
       "      <td>14.596599</td>\n",
       "      <td>148.631708</td>\n",
       "      <td>305.905893</td>\n",
       "      <td>11.497577</td>\n",
       "      <td>17.571513</td>\n",
       "      <td>14.607090</td>\n",
       "      <td>14.607090</td>\n",
       "      <td>14.607090</td>\n",
       "      <td>14.607090</td>\n",
       "      <td>14.607090</td>\n",
       "      <td>14.607090</td>\n",
       "      <td>0.0</td>\n",
       "      <td>0.0</td>\n",
       "      <td>0.0</td>\n",
       "      <td>227.810424</td>\n",
       "    </tr>\n",
       "    <tr>\n",
       "      <th>88</th>\n",
       "      <td>2025-01-01</td>\n",
       "      <td>14.760100</td>\n",
       "      <td>138.017696</td>\n",
       "      <td>314.418610</td>\n",
       "      <td>9.971490</td>\n",
       "      <td>19.322145</td>\n",
       "      <td>14.315322</td>\n",
       "      <td>14.315322</td>\n",
       "      <td>14.315322</td>\n",
       "      <td>14.315322</td>\n",
       "      <td>14.315322</td>\n",
       "      <td>14.315322</td>\n",
       "      <td>0.0</td>\n",
       "      <td>0.0</td>\n",
       "      <td>0.0</td>\n",
       "      <td>226.055685</td>\n",
       "    </tr>\n",
       "    <tr>\n",
       "      <th>89</th>\n",
       "      <td>2025-04-01</td>\n",
       "      <td>14.920047</td>\n",
       "      <td>122.728122</td>\n",
       "      <td>354.888761</td>\n",
       "      <td>8.534158</td>\n",
       "      <td>20.889378</td>\n",
       "      <td>15.109511</td>\n",
       "      <td>15.109511</td>\n",
       "      <td>15.109511</td>\n",
       "      <td>15.109511</td>\n",
       "      <td>15.109511</td>\n",
       "      <td>15.109511</td>\n",
       "      <td>0.0</td>\n",
       "      <td>0.0</td>\n",
       "      <td>0.0</td>\n",
       "      <td>240.354648</td>\n",
       "    </tr>\n",
       "    <tr>\n",
       "      <th>90</th>\n",
       "      <td>2025-07-01</td>\n",
       "      <td>15.081771</td>\n",
       "      <td>103.526726</td>\n",
       "      <td>377.312576</td>\n",
       "      <td>7.144342</td>\n",
       "      <td>22.877089</td>\n",
       "      <td>14.878495</td>\n",
       "      <td>14.878495</td>\n",
       "      <td>14.878495</td>\n",
       "      <td>14.878495</td>\n",
       "      <td>14.878495</td>\n",
       "      <td>14.878495</td>\n",
       "      <td>0.0</td>\n",
       "      <td>0.0</td>\n",
       "      <td>0.0</td>\n",
       "      <td>239.475817</td>\n",
       "    </tr>\n",
       "    <tr>\n",
       "      <th>91</th>\n",
       "      <td>2025-10-01</td>\n",
       "      <td>15.245272</td>\n",
       "      <td>80.257092</td>\n",
       "      <td>431.765044</td>\n",
       "      <td>5.004752</td>\n",
       "      <td>25.255621</td>\n",
       "      <td>15.755816</td>\n",
       "      <td>15.755816</td>\n",
       "      <td>15.755816</td>\n",
       "      <td>15.755816</td>\n",
       "      <td>15.755816</td>\n",
       "      <td>15.755816</td>\n",
       "      <td>0.0</td>\n",
       "      <td>0.0</td>\n",
       "      <td>0.0</td>\n",
       "      <td>255.446971</td>\n",
       "    </tr>\n",
       "  </tbody>\n",
       "</table>\n",
       "</div>"
      ],
      "text/plain": [
       "           ds      trend  yhat_lower  yhat_upper  trend_lower  trend_upper  \\\n",
       "87 2024-10-01  14.596599  148.631708  305.905893    11.497577    17.571513   \n",
       "88 2025-01-01  14.760100  138.017696  314.418610     9.971490    19.322145   \n",
       "89 2025-04-01  14.920047  122.728122  354.888761     8.534158    20.889378   \n",
       "90 2025-07-01  15.081771  103.526726  377.312576     7.144342    22.877089   \n",
       "91 2025-10-01  15.245272   80.257092  431.765044     5.004752    25.255621   \n",
       "\n",
       "    multiplicative_terms  multiplicative_terms_lower  \\\n",
       "87             14.607090                   14.607090   \n",
       "88             14.315322                   14.315322   \n",
       "89             15.109511                   15.109511   \n",
       "90             14.878495                   14.878495   \n",
       "91             15.755816                   15.755816   \n",
       "\n",
       "    multiplicative_terms_upper     yearly  yearly_lower  yearly_upper  \\\n",
       "87                   14.607090  14.607090     14.607090     14.607090   \n",
       "88                   14.315322  14.315322     14.315322     14.315322   \n",
       "89                   15.109511  15.109511     15.109511     15.109511   \n",
       "90                   14.878495  14.878495     14.878495     14.878495   \n",
       "91                   15.755816  15.755816     15.755816     15.755816   \n",
       "\n",
       "    additive_terms  additive_terms_lower  additive_terms_upper        yhat  \n",
       "87             0.0                   0.0                   0.0  227.810424  \n",
       "88             0.0                   0.0                   0.0  226.055685  \n",
       "89             0.0                   0.0                   0.0  240.354648  \n",
       "90             0.0                   0.0                   0.0  239.475817  \n",
       "91             0.0                   0.0                   0.0  255.446971  "
      ]
     },
     "execution_count": 53,
     "metadata": {},
     "output_type": "execute_result"
    }
   ],
   "source": [
    "forecast_prophet = m_prophet.predict(future_prophet)\n",
    "forecast_prophet.tail(5)\n",
    "\n"
   ]
  },
  {
   "cell_type": "code",
   "execution_count": 54,
   "metadata": {},
   "outputs": [
    {
     "data": {
      "text/html": [
       "<div>\n",
       "<style scoped>\n",
       "    .dataframe tbody tr th:only-of-type {\n",
       "        vertical-align: middle;\n",
       "    }\n",
       "\n",
       "    .dataframe tbody tr th {\n",
       "        vertical-align: top;\n",
       "    }\n",
       "\n",
       "    .dataframe thead th {\n",
       "        text-align: right;\n",
       "    }\n",
       "</style>\n",
       "<table border=\"1\" class=\"dataframe\">\n",
       "  <thead>\n",
       "    <tr style=\"text-align: right;\">\n",
       "      <th></th>\n",
       "      <th>ds</th>\n",
       "      <th>yhat</th>\n",
       "    </tr>\n",
       "  </thead>\n",
       "  <tbody>\n",
       "    <tr>\n",
       "      <th>85</th>\n",
       "      <td>2024-04-01</td>\n",
       "      <td>214.304971</td>\n",
       "    </tr>\n",
       "    <tr>\n",
       "      <th>86</th>\n",
       "      <td>2024-07-01</td>\n",
       "      <td>217.662651</td>\n",
       "    </tr>\n",
       "    <tr>\n",
       "      <th>87</th>\n",
       "      <td>2024-10-01</td>\n",
       "      <td>227.810424</td>\n",
       "    </tr>\n",
       "    <tr>\n",
       "      <th>88</th>\n",
       "      <td>2025-01-01</td>\n",
       "      <td>226.055685</td>\n",
       "    </tr>\n",
       "    <tr>\n",
       "      <th>89</th>\n",
       "      <td>2025-04-01</td>\n",
       "      <td>240.354648</td>\n",
       "    </tr>\n",
       "    <tr>\n",
       "      <th>90</th>\n",
       "      <td>2025-07-01</td>\n",
       "      <td>239.475817</td>\n",
       "    </tr>\n",
       "    <tr>\n",
       "      <th>91</th>\n",
       "      <td>2025-10-01</td>\n",
       "      <td>255.446971</td>\n",
       "    </tr>\n",
       "  </tbody>\n",
       "</table>\n",
       "</div>"
      ],
      "text/plain": [
       "           ds        yhat\n",
       "85 2024-04-01  214.304971\n",
       "86 2024-07-01  217.662651\n",
       "87 2024-10-01  227.810424\n",
       "88 2025-01-01  226.055685\n",
       "89 2025-04-01  240.354648\n",
       "90 2025-07-01  239.475817\n",
       "91 2025-10-01  255.446971"
      ]
     },
     "execution_count": 54,
     "metadata": {},
     "output_type": "execute_result"
    }
   ],
   "source": [
    "forecast_prophet[['ds', 'yhat']].tail(7)\n"
   ]
  },
  {
   "cell_type": "code",
   "execution_count": 55,
   "metadata": {},
   "outputs": [
    {
     "data": {
      "image/png": "[encoded data removed]",
      "text/plain": [
       "<Figure size 1000x600 with 1 Axes>"
      ]
     },
     "metadata": {},
     "output_type": "display_data"
    }
   ],
   "source": [
    "plot1 = m_prophet.plot(forecast_prophet)"
   ]
  },
  {
   "cell_type": "code",
   "execution_count": 56,
   "metadata": {},
   "outputs": [
    {
     "data": {
      "image/png": "[encoded data removed]",
      "text/plain": [
       "<Figure size 900x600 with 2 Axes>"
      ]
     },
     "metadata": {},
     "output_type": "display_data"
    }
   ],
   "source": [
    "plot2 = m_prophet.plot_components(forecast_prophet)"
   ]
  },
  {
   "cell_type": "code",
   "execution_count": 57,
   "metadata": {},
   "outputs": [],
   "source": [
    "from sklearn.metrics import r2_score"
   ]
  },
  {
   "cell_type": "code",
   "execution_count": 58,
   "metadata": {},
   "outputs": [
    {
     "name": "stdout",
     "output_type": "stream",
     "text": [
      "R² Score: 0.8015393037440991\n"
     ]
    }
   ],
   "source": [
    "# Assuming 'theft_from_person_data' is your actual data and 'forecast' is your prediction\n",
    "# Filter 'forecast' to match the date range in 'theft_from_person_data'\n",
    "forecast_filtered = forecast_prophet[forecast_prophet['ds'].isin(theft_from_person_data['ds'])]\n",
    "\n",
    "# Now, reassign y_pred to make sure it only includes matched predictions\n",
    "y_pred = forecast_filtered['yhat'].values\n",
    "y_true = theft_from_person_data['y'].values\n",
    "\n",
    "# Calculate R² score\n",
    "r2 = r2_score(y_true, y_pred)\n",
    "print(f\"R² Score: {r2}\")\n",
    "\n"
   ]
  },
  {
   "cell_type": "code",
   "execution_count": 59,
   "metadata": {},
   "outputs": [],
   "source": [
    "from prophet.diagnostics import cross_validation, performance_metrics"
   ]
  },
  {
   "cell_type": "code",
   "execution_count": 64,
   "metadata": {},
   "outputs": [
    {
     "data": {
      "application/vnd.jupyter.widget-view+json": {
       "model_id": "4a6ebc720504434a9d264085b8d148ce",
       "version_major": 2,
       "version_minor": 0
      },
      "text/plain": [
       "  0%|          | 0/2 [00:00<?, ?it/s]"
      ]
     },
     "metadata": {},
     "output_type": "display_data"
    },
    {
     "name": "stderr",
     "output_type": "stream",
     "text": [
      "18:08:43 - cmdstanpy - INFO - Chain [1] start processing\n",
      "18:08:45 - cmdstanpy - INFO - Chain [1] done processing\n",
      "18:08:45 - cmdstanpy - INFO - Chain [1] start processing\n",
      "18:08:47 - cmdstanpy - INFO - Chain [1] done processing\n"
     ]
    },
    {
     "name": "stdout",
     "output_type": "stream",
     "text": [
      "   horizon        rmse         mae      mape  coverage\n",
      "0  92 days  160.677350  151.843371  0.656731       0.0\n",
      "1 182 days  189.400173  178.133546  0.733139       0.0\n",
      "2 273 days  230.602687  225.352167  0.845447       0.0\n",
      "3 365 days  236.644112  234.963424  0.897373       0.0\n"
     ]
    }
   ],
   "source": [
    "# Perform cross-validation\n",
    "df_cv = cross_validation(model_prophet, initial='6840 days', period='365 days', horizon='365 days')\n",
    "\n",
    "# Calculate performance metrics\n",
    "df_p = performance_metrics(df_cv)\n",
    "print(df_p[['horizon', 'rmse', 'mae', 'mape', 'coverage']])\n"
   ]
  },
  {
   "cell_type": "code",
   "execution_count": null,
   "metadata": {},
   "outputs": [],
   "source": []
  }
 ],
 "metadata": {
  "kernelspec": {
   "display_name": "Python 3 (ipykernel)",
   "language": "python",
   "name": "python3"
  },
  "language_info": {
   "codemirror_mode": {
    "name": "ipython",
    "version": 3
   },
   "file_extension": ".py",
   "mimetype": "text/x-python",
   "name": "python",
   "nbconvert_exporter": "python",
   "pygments_lexer": "ipython3",
   "version": "3.11.7"
  }
 },
 "nbformat": 4,
 "nbformat_minor": 4
}
